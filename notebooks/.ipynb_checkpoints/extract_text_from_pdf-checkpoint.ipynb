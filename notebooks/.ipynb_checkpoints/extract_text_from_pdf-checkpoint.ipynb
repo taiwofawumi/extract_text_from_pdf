{
 "cells": [
  {
   "cell_type": "code",
   "execution_count": 1,
   "id": "e46c18b7",
   "metadata": {},
   "outputs": [],
   "source": [
    "import PyPDF2 as pdf\n",
    "import pandas as pd"
   ]
  },
  {
   "cell_type": "code",
   "execution_count": 2,
   "id": "ef4f54f8",
   "metadata": {},
   "outputs": [],
   "source": [
    "# open pdf file\n",
    "pdf_file = open('../pdf_files/taiwo_fawumi_receipt.pdf','rb')"
   ]
  },
  {
   "cell_type": "code",
   "execution_count": 3,
   "id": "29f7f84c",
   "metadata": {},
   "outputs": [],
   "source": [
    "# parse pdf file\n",
    "pdf_reader = pdf.PdfReader(pdf_file)"
   ]
  },
  {
   "cell_type": "code",
   "execution_count": 4,
   "id": "ab793c64",
   "metadata": {},
   "outputs": [],
   "source": [
    "# extract text from pdf\n",
    "pdf_text = pd.DataFrame(columns = ['page','text'])\n",
    "for i in range(len(pdf_reader.pages)):\n",
    "    pdf_page_text = pdf_reader.pages[i]\n",
    "    page_text = pd.DataFrame()\n",
    "    page_text = pd.DataFrame({\"page\":[i+1], \"text\":[pdf_page_text.extract_text()]})\n",
    "    pdf_text = pd.concat([pdf_text, page_text], ignore_index=True)"
   ]
  },
  {
   "cell_type": "code",
   "execution_count": 5,
   "id": "0ed9b6f7",
   "metadata": {},
   "outputs": [],
   "source": [
    "pdf_text.to_csv('pdf_text.csv', index=False)"
   ]
  },
  {
   "cell_type": "code",
   "execution_count": 6,
   "id": "e8f3ce2c",
   "metadata": {},
   "outputs": [],
   "source": [
    "# # rewrite first page of pdf to file\n",
    "# pdf_writer = pdf.PdfWriter()\n",
    "# pdf_writer.add_page(pdf_text_page_1)\n",
    "# output = open('pdf_page_1.pdf','wb')\n",
    "# pdf_writer.write(output)\n",
    "# output.close()"
   ]
  }
 ],
 "metadata": {
  "kernelspec": {
   "display_name": "Python 3 (ipykernel)",
   "language": "python",
   "name": "python3"
  },
  "language_info": {
   "codemirror_mode": {
    "name": "ipython",
    "version": 3
   },
   "file_extension": ".py",
   "mimetype": "text/x-python",
   "name": "python",
   "nbconvert_exporter": "python",
   "pygments_lexer": "ipython3",
   "version": "3.10.0"
  }
 },
 "nbformat": 4,
 "nbformat_minor": 5
}
